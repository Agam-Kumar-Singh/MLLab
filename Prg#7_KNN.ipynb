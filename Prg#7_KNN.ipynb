{
 "cells": [
  {
   "cell_type": "markdown",
   "metadata": {
    "id": "oXPO-uicW_Jz"
   },
   "source": [
    "##Importing Data and Necessary Packages"
   ]
  },
  {
   "cell_type": "code",
   "execution_count": 4,
   "metadata": {
    "executionInfo": {
     "elapsed": 509,
     "status": "ok",
     "timestamp": 1654829339389,
     "user": {
      "displayName": "Dr.Mydhili Nair",
      "userId": "00267933281365461047"
     },
     "user_tz": -330
    },
    "id": "-ZRRkdZDWyWS"
   },
   "outputs": [],
   "source": [
    "import numpy as np\n",
    "import pandas as pd\n",
    "import seaborn as sns\n",
    "import matplotlib.pyplot as plt\n",
    "from sklearn.preprocessing import StandardScaler\n",
    "from sklearn.model_selection import train_test_split\n",
    "from scipy.stats import mode\n",
    "from sklearn.metrics import classification_report, accuracy_score"
   ]
  },
  {
   "cell_type": "code",
   "execution_count": 5,
   "metadata": {
    "colab": {
     "base_uri": "https://localhost:8080/",
     "height": 270
    },
    "executionInfo": {
     "elapsed": 13,
     "status": "ok",
     "timestamp": 1654829339765,
     "user": {
      "displayName": "Dr.Mydhili Nair",
      "userId": "00267933281365461047"
     },
     "user_tz": -330
    },
    "id": "C8E-2neKW1IJ",
    "outputId": "6b8afecc-7d5b-4473-e233-8d372c18011c"
   },
   "outputs": [
    {
     "data": {
      "text/html": [
       "<div>\n",
       "<style scoped>\n",
       "    .dataframe tbody tr th:only-of-type {\n",
       "        vertical-align: middle;\n",
       "    }\n",
       "\n",
       "    .dataframe tbody tr th {\n",
       "        vertical-align: top;\n",
       "    }\n",
       "\n",
       "    .dataframe thead th {\n",
       "        text-align: right;\n",
       "    }\n",
       "</style>\n",
       "<table border=\"1\" class=\"dataframe\">\n",
       "  <thead>\n",
       "    <tr style=\"text-align: right;\">\n",
       "      <th></th>\n",
       "      <th>Pregnancies</th>\n",
       "      <th>Glucose</th>\n",
       "      <th>BloodPressure</th>\n",
       "      <th>SkinThickness</th>\n",
       "      <th>Insulin</th>\n",
       "      <th>BMI</th>\n",
       "      <th>DiabetesPedigreeFunction</th>\n",
       "      <th>Age</th>\n",
       "      <th>Outcome</th>\n",
       "    </tr>\n",
       "  </thead>\n",
       "  <tbody>\n",
       "    <tr>\n",
       "      <th>0</th>\n",
       "      <td>6.0</td>\n",
       "      <td>148</td>\n",
       "      <td>72.0</td>\n",
       "      <td>35.0</td>\n",
       "      <td>0.0</td>\n",
       "      <td>33.6</td>\n",
       "      <td>0.627</td>\n",
       "      <td>50.0</td>\n",
       "      <td>1</td>\n",
       "    </tr>\n",
       "    <tr>\n",
       "      <th>1</th>\n",
       "      <td>1.0</td>\n",
       "      <td>85</td>\n",
       "      <td>66.0</td>\n",
       "      <td>29.0</td>\n",
       "      <td>0.0</td>\n",
       "      <td>26.6</td>\n",
       "      <td>0.351</td>\n",
       "      <td>31.0</td>\n",
       "      <td>0</td>\n",
       "    </tr>\n",
       "    <tr>\n",
       "      <th>2</th>\n",
       "      <td>8.0</td>\n",
       "      <td>183</td>\n",
       "      <td>64.0</td>\n",
       "      <td>0.0</td>\n",
       "      <td>0.0</td>\n",
       "      <td>23.3</td>\n",
       "      <td>0.672</td>\n",
       "      <td>32.0</td>\n",
       "      <td>1</td>\n",
       "    </tr>\n",
       "    <tr>\n",
       "      <th>3</th>\n",
       "      <td>1.0</td>\n",
       "      <td>89</td>\n",
       "      <td>66.0</td>\n",
       "      <td>23.0</td>\n",
       "      <td>94.0</td>\n",
       "      <td>28.1</td>\n",
       "      <td>0.167</td>\n",
       "      <td>21.0</td>\n",
       "      <td>0</td>\n",
       "    </tr>\n",
       "    <tr>\n",
       "      <th>4</th>\n",
       "      <td>NaN</td>\n",
       "      <td>137</td>\n",
       "      <td>40.0</td>\n",
       "      <td>35.0</td>\n",
       "      <td>168.0</td>\n",
       "      <td>43.1</td>\n",
       "      <td>2.288</td>\n",
       "      <td>NaN</td>\n",
       "      <td>1</td>\n",
       "    </tr>\n",
       "  </tbody>\n",
       "</table>\n",
       "</div>"
      ],
      "text/plain": [
       "   Pregnancies  Glucose  BloodPressure  SkinThickness  Insulin   BMI  \\\n",
       "0          6.0      148           72.0           35.0      0.0  33.6   \n",
       "1          1.0       85           66.0           29.0      0.0  26.6   \n",
       "2          8.0      183           64.0            0.0      0.0  23.3   \n",
       "3          1.0       89           66.0           23.0     94.0  28.1   \n",
       "4          NaN      137           40.0           35.0    168.0  43.1   \n",
       "\n",
       "   DiabetesPedigreeFunction   Age  Outcome  \n",
       "0                     0.627  50.0        1  \n",
       "1                     0.351  31.0        0  \n",
       "2                     0.672  32.0        1  \n",
       "3                     0.167  21.0        0  \n",
       "4                     2.288   NaN        1  "
      ]
     },
     "execution_count": 5,
     "metadata": {},
     "output_type": "execute_result"
    }
   ],
   "source": [
    "data = pd.read_csv(\"diabetis_use.csv\")\n",
    "data.head()"
   ]
  },
  {
   "cell_type": "markdown",
   "metadata": {
    "id": "GWovg-VhW-R8"
   },
   "source": [
    "##Pre-Processing Data"
   ]
  },
  {
   "cell_type": "markdown",
   "metadata": {
    "id": "1jGm8YuPXn4U"
   },
   "source": [
    "###Summary of the available data"
   ]
  },
  {
   "cell_type": "code",
   "execution_count": 6,
   "metadata": {
    "colab": {
     "base_uri": "https://localhost:8080/"
    },
    "executionInfo": {
     "elapsed": 10,
     "status": "ok",
     "timestamp": 1654829339766,
     "user": {
      "displayName": "Dr.Mydhili Nair",
      "userId": "00267933281365461047"
     },
     "user_tz": -330
    },
    "id": "Smyn0LnOW5T4",
    "outputId": "a9d9b8f6-a94a-4407-823b-c3cd3385fbb9"
   },
   "outputs": [
    {
     "name": "stdout",
     "output_type": "stream",
     "text": [
      "<class 'pandas.core.frame.DataFrame'>\n",
      "RangeIndex: 768 entries, 0 to 767\n",
      "Data columns (total 9 columns):\n",
      " #   Column                    Non-Null Count  Dtype  \n",
      "---  ------                    --------------  -----  \n",
      " 0   Pregnancies               763 non-null    float64\n",
      " 1   Glucose                   768 non-null    int64  \n",
      " 2   BloodPressure             763 non-null    float64\n",
      " 3   SkinThickness             765 non-null    float64\n",
      " 4   Insulin                   764 non-null    float64\n",
      " 5   BMI                       763 non-null    float64\n",
      " 6   DiabetesPedigreeFunction  768 non-null    float64\n",
      " 7   Age                       762 non-null    float64\n",
      " 8   Outcome                   768 non-null    int64  \n",
      "dtypes: float64(7), int64(2)\n",
      "memory usage: 54.1 KB\n"
     ]
    }
   ],
   "source": [
    "data.info(verbose=True)"
   ]
  },
  {
   "cell_type": "code",
   "execution_count": 7,
   "metadata": {
    "colab": {
     "base_uri": "https://localhost:8080/",
     "height": 459
    },
    "executionInfo": {
     "elapsed": 1864,
     "status": "ok",
     "timestamp": 1654829341624,
     "user": {
      "displayName": "Dr.Mydhili Nair",
      "userId": "00267933281365461047"
     },
     "user_tz": -330
    },
    "id": "wTNSYIzvXu9r",
    "outputId": "0f8a5e59-bdb4-493d-db1b-515c40fc4392"
   },
   "outputs": [],
   "source": [
    "# null_count_plot = msno.bar(data)"
   ]
  },
  {
   "cell_type": "markdown",
   "metadata": {
    "id": "Cb1Hnj_YZut1"
   },
   "source": [
    "####Clearly we have some null values in Pregnancies, BloodPressure, SkinThickness, Insulin, BMI, Age columns\n",
    "\n",
    "#####We are omitting all entries where Age is null, as we can't approximate that value from a mean/median extracted from a distribution plot"
   ]
  },
  {
   "cell_type": "code",
   "execution_count": 8,
   "metadata": {
    "colab": {
     "base_uri": "https://localhost:8080/"
    },
    "executionInfo": {
     "elapsed": 15,
     "status": "ok",
     "timestamp": 1654829341625,
     "user": {
      "displayName": "Dr.Mydhili Nair",
      "userId": "00267933281365461047"
     },
     "user_tz": -330
    },
    "id": "hzg7PRipZiYN",
    "outputId": "6b635d35-2bd7-45c0-9017-1a426c3e30aa"
   },
   "outputs": [
    {
     "name": "stdout",
     "output_type": "stream",
     "text": [
      "Original Dataset : (768, 9) ; After removing null age rows : (762, 9)\n"
     ]
    }
   ],
   "source": [
    "data_copy = data.copy(deep = True)\n",
    "data_copy = data_copy[data_copy[\"Age\"].notnull()]\n",
    "print(\"Original Dataset : {} ; After removing null age rows : {}\".format(data.shape, data_copy.shape))"
   ]
  },
  {
   "cell_type": "markdown",
   "metadata": {
    "id": "8m9sFbMYeOkv"
   },
   "source": [
    "#####Now, out of the remaining columns, it is clear that the following columns should not have a zero value: -\n",
    "\n",
    "*   BloodPressure\n",
    "*   SkinThickness\n",
    "*   Insulin\n",
    "*   Glucose  \n",
    "*   BMI\n",
    "\n",
    "To make handling those values easier, let's replace all instances of \"0\" with NaN in those columns\n"
   ]
  },
  {
   "cell_type": "code",
   "execution_count": 9,
   "metadata": {
    "colab": {
     "base_uri": "https://localhost:8080/",
     "height": 270
    },
    "executionInfo": {
     "elapsed": 11,
     "status": "ok",
     "timestamp": 1654829341626,
     "user": {
      "displayName": "Dr.Mydhili Nair",
      "userId": "00267933281365461047"
     },
     "user_tz": -330
    },
    "id": "IsFLhrg8aGnK",
    "outputId": "07d2d4e0-bd69-410e-8d9b-646dab1f5821"
   },
   "outputs": [
    {
     "data": {
      "text/html": [
       "<div>\n",
       "<style scoped>\n",
       "    .dataframe tbody tr th:only-of-type {\n",
       "        vertical-align: middle;\n",
       "    }\n",
       "\n",
       "    .dataframe tbody tr th {\n",
       "        vertical-align: top;\n",
       "    }\n",
       "\n",
       "    .dataframe thead th {\n",
       "        text-align: right;\n",
       "    }\n",
       "</style>\n",
       "<table border=\"1\" class=\"dataframe\">\n",
       "  <thead>\n",
       "    <tr style=\"text-align: right;\">\n",
       "      <th></th>\n",
       "      <th>Pregnancies</th>\n",
       "      <th>Glucose</th>\n",
       "      <th>BloodPressure</th>\n",
       "      <th>SkinThickness</th>\n",
       "      <th>Insulin</th>\n",
       "      <th>BMI</th>\n",
       "      <th>DiabetesPedigreeFunction</th>\n",
       "      <th>Age</th>\n",
       "      <th>Outcome</th>\n",
       "    </tr>\n",
       "  </thead>\n",
       "  <tbody>\n",
       "    <tr>\n",
       "      <th>0</th>\n",
       "      <td>6.0</td>\n",
       "      <td>148.0</td>\n",
       "      <td>72.0</td>\n",
       "      <td>35.0</td>\n",
       "      <td>NaN</td>\n",
       "      <td>33.6</td>\n",
       "      <td>0.627</td>\n",
       "      <td>50.0</td>\n",
       "      <td>1</td>\n",
       "    </tr>\n",
       "    <tr>\n",
       "      <th>1</th>\n",
       "      <td>1.0</td>\n",
       "      <td>85.0</td>\n",
       "      <td>66.0</td>\n",
       "      <td>29.0</td>\n",
       "      <td>NaN</td>\n",
       "      <td>26.6</td>\n",
       "      <td>0.351</td>\n",
       "      <td>31.0</td>\n",
       "      <td>0</td>\n",
       "    </tr>\n",
       "    <tr>\n",
       "      <th>2</th>\n",
       "      <td>8.0</td>\n",
       "      <td>183.0</td>\n",
       "      <td>64.0</td>\n",
       "      <td>NaN</td>\n",
       "      <td>NaN</td>\n",
       "      <td>23.3</td>\n",
       "      <td>0.672</td>\n",
       "      <td>32.0</td>\n",
       "      <td>1</td>\n",
       "    </tr>\n",
       "    <tr>\n",
       "      <th>3</th>\n",
       "      <td>1.0</td>\n",
       "      <td>89.0</td>\n",
       "      <td>66.0</td>\n",
       "      <td>23.0</td>\n",
       "      <td>94.0</td>\n",
       "      <td>28.1</td>\n",
       "      <td>0.167</td>\n",
       "      <td>21.0</td>\n",
       "      <td>0</td>\n",
       "    </tr>\n",
       "    <tr>\n",
       "      <th>5</th>\n",
       "      <td>5.0</td>\n",
       "      <td>116.0</td>\n",
       "      <td>74.0</td>\n",
       "      <td>NaN</td>\n",
       "      <td>NaN</td>\n",
       "      <td>25.6</td>\n",
       "      <td>0.201</td>\n",
       "      <td>30.0</td>\n",
       "      <td>0</td>\n",
       "    </tr>\n",
       "  </tbody>\n",
       "</table>\n",
       "</div>"
      ],
      "text/plain": [
       "   Pregnancies  Glucose  BloodPressure  SkinThickness  Insulin   BMI  \\\n",
       "0          6.0    148.0           72.0           35.0      NaN  33.6   \n",
       "1          1.0     85.0           66.0           29.0      NaN  26.6   \n",
       "2          8.0    183.0           64.0            NaN      NaN  23.3   \n",
       "3          1.0     89.0           66.0           23.0     94.0  28.1   \n",
       "5          5.0    116.0           74.0            NaN      NaN  25.6   \n",
       "\n",
       "   DiabetesPedigreeFunction   Age  Outcome  \n",
       "0                     0.627  50.0        1  \n",
       "1                     0.351  31.0        0  \n",
       "2                     0.672  32.0        1  \n",
       "3                     0.167  21.0        0  \n",
       "5                     0.201  30.0        0  "
      ]
     },
     "execution_count": 9,
     "metadata": {},
     "output_type": "execute_result"
    }
   ],
   "source": [
    "data_copy[[\"BloodPressure\",\"SkinThickness\",\"Insulin\",\"Glucose\",\"BMI\"]] = data_copy[[\"BloodPressure\",\"SkinThickness\",\"Insulin\",\"Glucose\",\"BMI\"]].replace(0,np.NaN)\n",
    "\n",
    "data_copy.head()"
   ]
  },
  {
   "cell_type": "code",
   "execution_count": 10,
   "metadata": {
    "colab": {
     "base_uri": "https://localhost:8080/",
     "height": 856
    },
    "executionInfo": {
     "elapsed": 973,
     "status": "ok",
     "timestamp": 1654829342590,
     "user": {
      "displayName": "Dr.Mydhili Nair",
      "userId": "00267933281365461047"
     },
     "user_tz": -330
    },
    "id": "pd98pgPhfn0Q",
    "outputId": "ac91f401-2710-488c-8a52-d4825f420db9"
   },
   "outputs": [
    {
     "data": {
      "image/png": "[encoded data removed]",
      "text/plain": [
       "<Figure size 1440x1440 with 6 Axes>"
      ]
     },
     "metadata": {
      "needs_background": "light"
     },
     "output_type": "display_data"
    }
   ],
   "source": [
    "distribution_plot = data_copy[[\"BloodPressure\",\"SkinThickness\",\"Insulin\",\"Glucose\",\"BMI\",\"Pregnancies\"]].hist(figsize = (20,20))"
   ]
  },
  {
   "cell_type": "markdown",
   "metadata": {
    "id": "0y74_qmNgPav"
   },
   "source": [
    "####Replacing NaN values\n",
    "#####We are going to use the following imputation tactic for each of these columns: -\n",
    "\n",
    "1.   Boxplot for each column\n",
    "2.   If values in that column are forming a symmetrical distribution with less number of outliers, we use mean to impute the NaN values.\n",
    "3.   If values in the column are forming a skewed distribution with large number of outliers, we use median to impute the NaN values.\n",
    "\n",
    "#####A) BMI"
   ]
  },
  {
   "cell_type": "code",
   "execution_count": 11,
   "metadata": {
    "colab": {
     "base_uri": "https://localhost:8080/",
     "height": 371
    },
    "executionInfo": {
     "elapsed": 934,
     "status": "ok",
     "timestamp": 1654829343510,
     "user": {
      "displayName": "Dr.Mydhili Nair",
      "userId": "00267933281365461047"
     },
     "user_tz": -330
    },
    "id": "7YDr_dpTf9Z4",
    "outputId": "f3f6a89a-2cbe-4761-e405-9b42fb5918e2"
   },
   "outputs": [
    {
     "name": "stderr",
     "output_type": "stream",
     "text": [
      "D:\\anaconda\\lib\\site-packages\\seaborn\\_decorators.py:36: FutureWarning: Pass the following variable as a keyword arg: x. From version 0.12, the only valid positional argument will be `data`, and passing other arguments without an explicit keyword will result in an error or misinterpretation.\n",
      "  warnings.warn(\n"
     ]
    },
    {
     "data": {
      "text/plain": [
       "<AxesSubplot:xlabel='BMI'>"
      ]
     },
     "execution_count": 11,
     "metadata": {},
     "output_type": "execute_result"
    },
    {
     "data": {
      "image/png": "[encoded data removed]",
      "text/plain": [
       "<Figure size 1440x432 with 1 Axes>"
      ]
     },
     "metadata": {
      "needs_background": "light"
     },
     "output_type": "display_data"
    }
   ],
   "source": [
    "fig, ax = plt.subplots(figsize = (20,6))\n",
    "sns.boxplot(data_copy[\"BMI\"])"
   ]
  },
  {
   "cell_type": "markdown",
   "metadata": {
    "id": "2775oAC9jPbd"
   },
   "source": [
    "#####Clearly the distribution is left-skewed, so we go with median imputation of NaN values"
   ]
  },
  {
   "cell_type": "code",
   "execution_count": 12,
   "metadata": {
    "executionInfo": {
     "elapsed": 42,
     "status": "ok",
     "timestamp": 1654829343511,
     "user": {
      "displayName": "Dr.Mydhili Nair",
      "userId": "00267933281365461047"
     },
     "user_tz": -330
    },
    "id": "Jf6qDaCdjPA-"
   },
   "outputs": [],
   "source": [
    "data_copy[\"BMI\"].fillna(data_copy[\"BMI\"].median(), inplace = True)"
   ]
  },
  {
   "cell_type": "markdown",
   "metadata": {
    "id": "blgn_Yhbiast"
   },
   "source": [
    "B) Glucose"
   ]
  },
  {
   "cell_type": "code",
   "execution_count": 13,
   "metadata": {
    "colab": {
     "base_uri": "https://localhost:8080/",
     "height": 371
    },
    "executionInfo": {
     "elapsed": 41,
     "status": "ok",
     "timestamp": 1654829343512,
     "user": {
      "displayName": "Dr.Mydhili Nair",
      "userId": "00267933281365461047"
     },
     "user_tz": -330
    },
    "id": "WSHH1JVmiFx2",
    "outputId": "5f6c8020-2e17-4cd1-d6ff-da7b36d1ee36"
   },
   "outputs": [
    {
     "name": "stderr",
     "output_type": "stream",
     "text": [
      "D:\\anaconda\\lib\\site-packages\\seaborn\\_decorators.py:36: FutureWarning: Pass the following variable as a keyword arg: x. From version 0.12, the only valid positional argument will be `data`, and passing other arguments without an explicit keyword will result in an error or misinterpretation.\n",
      "  warnings.warn(\n"
     ]
    },
    {
     "data": {
      "text/plain": [
       "<AxesSubplot:xlabel='Glucose'>"
      ]
     },
     "execution_count": 13,
     "metadata": {},
     "output_type": "execute_result"
    },
    {
     "data": {
      "image/png": "[encoded data removed]",
      "text/plain": [
       "<Figure size 1440x432 with 1 Axes>"
      ]
     },
     "metadata": {
      "needs_background": "light"
     },
     "output_type": "display_data"
    }
   ],
   "source": [
    "fig, ax = plt.subplots(figsize = (20,6))\n",
    "sns.boxplot(data_copy[\"Glucose\"])"
   ]
  },
  {
   "cell_type": "markdown",
   "metadata": {
    "id": "xyXmyT5cj3Gq"
   },
   "source": [
    "#####Clearly the distribution is symmetric, so we go with mean imputation of NaN values"
   ]
  },
  {
   "cell_type": "code",
   "execution_count": 14,
   "metadata": {
    "executionInfo": {
     "elapsed": 35,
     "status": "ok",
     "timestamp": 1654829343512,
     "user": {
      "displayName": "Dr.Mydhili Nair",
      "userId": "00267933281365461047"
     },
     "user_tz": -330
    },
    "id": "enRzLOytj3Gr"
   },
   "outputs": [],
   "source": [
    "data_copy[\"Glucose\"].fillna(data_copy[\"Glucose\"].mean(), inplace = True)"
   ]
  },
  {
   "cell_type": "markdown",
   "metadata": {
    "id": "l3GFX_lRisaz"
   },
   "source": [
    "C) SkinThickness"
   ]
  },
  {
   "cell_type": "code",
   "execution_count": 15,
   "metadata": {
    "colab": {
     "base_uri": "https://localhost:8080/",
     "height": 371
    },
    "executionInfo": {
     "elapsed": 36,
     "status": "ok",
     "timestamp": 1654829343513,
     "user": {
      "displayName": "Dr.Mydhili Nair",
      "userId": "00267933281365461047"
     },
     "user_tz": -330
    },
    "id": "Cw5EWJjPisa0",
    "outputId": "823ccb6e-c129-4b39-f15a-2006da430f18"
   },
   "outputs": [
    {
     "name": "stderr",
     "output_type": "stream",
     "text": [
      "D:\\anaconda\\lib\\site-packages\\seaborn\\_decorators.py:36: FutureWarning: Pass the following variable as a keyword arg: x. From version 0.12, the only valid positional argument will be `data`, and passing other arguments without an explicit keyword will result in an error or misinterpretation.\n",
      "  warnings.warn(\n"
     ]
    },
    {
     "data": {
      "text/plain": [
       "<AxesSubplot:xlabel='SkinThickness'>"
      ]
     },
     "execution_count": 15,
     "metadata": {},
     "output_type": "execute_result"
    },
    {
     "data": {
      "image/png": "[encoded data removed]",
      "text/plain": [
       "<Figure size 1440x432 with 1 Axes>"
      ]
     },
     "metadata": {
      "needs_background": "light"
     },
     "output_type": "display_data"
    }
   ],
   "source": [
    "fig, ax = plt.subplots(figsize = (20,6))\n",
    "sns.boxplot(data_copy[\"SkinThickness\"])"
   ]
  },
  {
   "cell_type": "markdown",
   "metadata": {
    "id": "mif46X37kAyJ"
   },
   "source": [
    "#####Clearly the distribution is left-skewed, so we go with median imputation of NaN values"
   ]
  },
  {
   "cell_type": "code",
   "execution_count": 16,
   "metadata": {
    "executionInfo": {
     "elapsed": 34,
     "status": "ok",
     "timestamp": 1654829343514,
     "user": {
      "displayName": "Dr.Mydhili Nair",
      "userId": "00267933281365461047"
     },
     "user_tz": -330
    },
    "id": "cCQ4Zep1kAyK"
   },
   "outputs": [],
   "source": [
    "data_copy[\"SkinThickness\"].fillna(data_copy[\"SkinThickness\"].median(), inplace = True)"
   ]
  },
  {
   "cell_type": "markdown",
   "metadata": {
    "id": "XOZl7uW2i6J2"
   },
   "source": [
    "D) Insulin"
   ]
  },
  {
   "cell_type": "code",
   "execution_count": 17,
   "metadata": {
    "colab": {
     "base_uri": "https://localhost:8080/",
     "height": 371
    },
    "executionInfo": {
     "elapsed": 34,
     "status": "ok",
     "timestamp": 1654829343514,
     "user": {
      "displayName": "Dr.Mydhili Nair",
      "userId": "00267933281365461047"
     },
     "user_tz": -330
    },
    "id": "NWS7S2ECi6J6",
    "outputId": "28997af5-4e3d-4039-ccfc-3c0fca34310c"
   },
   "outputs": [
    {
     "name": "stderr",
     "output_type": "stream",
     "text": [
      "D:\\anaconda\\lib\\site-packages\\seaborn\\_decorators.py:36: FutureWarning: Pass the following variable as a keyword arg: x. From version 0.12, the only valid positional argument will be `data`, and passing other arguments without an explicit keyword will result in an error or misinterpretation.\n",
      "  warnings.warn(\n"
     ]
    },
    {
     "data": {
      "text/plain": [
       "<AxesSubplot:xlabel='Insulin'>"
      ]
     },
     "execution_count": 17,
     "metadata": {},
     "output_type": "execute_result"
    },
    {
     "data": {
      "image/png": "[encoded data removed]",
      "text/plain": [
       "<Figure size 1440x432 with 1 Axes>"
      ]
     },
     "metadata": {
      "needs_background": "light"
     },
     "output_type": "display_data"
    }
   ],
   "source": [
    "fig, ax = plt.subplots(figsize = (20,6))\n",
    "sns.boxplot(data_copy[\"Insulin\"])"
   ]
  },
  {
   "cell_type": "markdown",
   "metadata": {
    "id": "uYieroMgkSB6"
   },
   "source": [
    "#####Clearly the distribution is left-skewed, so we go with median imputation of NaN values"
   ]
  },
  {
   "cell_type": "code",
   "execution_count": 18,
   "metadata": {
    "executionInfo": {
     "elapsed": 32,
     "status": "ok",
     "timestamp": 1654829343515,
     "user": {
      "displayName": "Dr.Mydhili Nair",
      "userId": "00267933281365461047"
     },
     "user_tz": -330
    },
    "id": "QUaPLZVskSB6"
   },
   "outputs": [],
   "source": [
    "data_copy[\"Insulin\"].fillna(data_copy[\"Insulin\"].median(), inplace = True)"
   ]
  },
  {
   "cell_type": "markdown",
   "metadata": {
    "id": "ouOPUZuPi7lQ"
   },
   "source": [
    "E) BloodPressure"
   ]
  },
  {
   "cell_type": "code",
   "execution_count": 19,
   "metadata": {
    "colab": {
     "base_uri": "https://localhost:8080/",
     "height": 371
    },
    "executionInfo": {
     "elapsed": 866,
     "status": "ok",
     "timestamp": 1654829344350,
     "user": {
      "displayName": "Dr.Mydhili Nair",
      "userId": "00267933281365461047"
     },
     "user_tz": -330
    },
    "id": "65fXuWc5i7lR",
    "outputId": "1e58ea85-ba18-4b76-b112-b3ebd4337f25"
   },
   "outputs": [
    {
     "name": "stderr",
     "output_type": "stream",
     "text": [
      "D:\\anaconda\\lib\\site-packages\\seaborn\\_decorators.py:36: FutureWarning: Pass the following variable as a keyword arg: x. From version 0.12, the only valid positional argument will be `data`, and passing other arguments without an explicit keyword will result in an error or misinterpretation.\n",
      "  warnings.warn(\n"
     ]
    },
    {
     "data": {
      "text/plain": [
       "<AxesSubplot:xlabel='BloodPressure'>"
      ]
     },
     "execution_count": 19,
     "metadata": {},
     "output_type": "execute_result"
    },
    {
     "data": {
      "image/png": "[encoded data removed]",
      "text/plain": [
       "<Figure size 1440x432 with 1 Axes>"
      ]
     },
     "metadata": {
      "needs_background": "light"
     },
     "output_type": "display_data"
    }
   ],
   "source": [
    "fig, ax = plt.subplots(figsize = (20,6))\n",
    "sns.boxplot(data_copy[\"BloodPressure\"])"
   ]
  },
  {
   "cell_type": "markdown",
   "metadata": {
    "id": "XSrluJ2kkdAC"
   },
   "source": [
    "#####Clearly the distribution is symmetric, so we go with mean imputation of NaN values"
   ]
  },
  {
   "cell_type": "code",
   "execution_count": 20,
   "metadata": {
    "executionInfo": {
     "elapsed": 15,
     "status": "ok",
     "timestamp": 1654829344351,
     "user": {
      "displayName": "Dr.Mydhili Nair",
      "userId": "00267933281365461047"
     },
     "user_tz": -330
    },
    "id": "917GsMPqkdAD"
   },
   "outputs": [],
   "source": [
    "data_copy[\"BloodPressure\"].fillna(data_copy[\"BloodPressure\"].mean(), inplace = True)"
   ]
  },
  {
   "cell_type": "markdown",
   "metadata": {
    "id": "QbBzsYLOltEy"
   },
   "source": [
    "F) Pregnancies"
   ]
  },
  {
   "cell_type": "code",
   "execution_count": 21,
   "metadata": {
    "colab": {
     "base_uri": "https://localhost:8080/",
     "height": 371
    },
    "executionInfo": {
     "elapsed": 13,
     "status": "ok",
     "timestamp": 1654829344351,
     "user": {
      "displayName": "Dr.Mydhili Nair",
      "userId": "00267933281365461047"
     },
     "user_tz": -330
    },
    "id": "tUH8v81_ltEz",
    "outputId": "1a94c275-e6e7-4c8f-fee4-f99765f241fe"
   },
   "outputs": [
    {
     "name": "stderr",
     "output_type": "stream",
     "text": [
      "D:\\anaconda\\lib\\site-packages\\seaborn\\_decorators.py:36: FutureWarning: Pass the following variable as a keyword arg: x. From version 0.12, the only valid positional argument will be `data`, and passing other arguments without an explicit keyword will result in an error or misinterpretation.\n",
      "  warnings.warn(\n"
     ]
    },
    {
     "data": {
      "text/plain": [
       "<AxesSubplot:xlabel='Pregnancies'>"
      ]
     },
     "execution_count": 21,
     "metadata": {},
     "output_type": "execute_result"
    },
    {
     "data": {
      "image/png": "[encoded data removed]",
      "text/plain": [
       "<Figure size 1440x432 with 1 Axes>"
      ]
     },
     "metadata": {
      "needs_background": "light"
     },
     "output_type": "display_data"
    }
   ],
   "source": [
    "fig, ax = plt.subplots(figsize = (20,6))\n",
    "sns.boxplot(data_copy[\"Pregnancies\"])"
   ]
  },
  {
   "cell_type": "markdown",
   "metadata": {
    "id": "95By_sGYltE0"
   },
   "source": [
    "#####Clearly the distribution is left-skewed, so we go with median imputation of NaN values"
   ]
  },
  {
   "cell_type": "code",
   "execution_count": 22,
   "metadata": {
    "executionInfo": {
     "elapsed": 11,
     "status": "ok",
     "timestamp": 1654829344354,
     "user": {
      "displayName": "Dr.Mydhili Nair",
      "userId": "00267933281365461047"
     },
     "user_tz": -330
    },
    "id": "n47MuLkRltE0"
   },
   "outputs": [],
   "source": [
    "data_copy[\"Pregnancies\"].fillna(data_copy[\"Pregnancies\"].median(), inplace = True)"
   ]
  },
  {
   "cell_type": "markdown",
   "metadata": {
    "id": "dZl09FR-koR5"
   },
   "source": [
    "#### Plotting dataset after NaN imputation"
   ]
  },
  {
   "cell_type": "code",
   "execution_count": 23,
   "metadata": {
    "colab": {
     "base_uri": "https://localhost:8080/",
     "height": 856
    },
    "executionInfo": {
     "elapsed": 1313,
     "status": "ok",
     "timestamp": 1654829345656,
     "user": {
      "displayName": "Dr.Mydhili Nair",
      "userId": "00267933281365461047"
     },
     "user_tz": -330
    },
    "id": "KoQPEAcmkv0V",
    "outputId": "aeee8576-c5e7-4515-d7c4-f0cb3ca708cc"
   },
   "outputs": [
    {
     "data": {
      "image/png": "[encoded data removed]",
      "text/plain": [
       "<Figure size 1440x1440 with 6 Axes>"
      ]
     },
     "metadata": {
      "needs_background": "light"
     },
     "output_type": "display_data"
    }
   ],
   "source": [
    "final_distribution_plot = data_copy[[\"BloodPressure\",\"SkinThickness\",\"Insulin\",\"Glucose\",\"BMI\",\"Pregnancies\"]].hist(figsize = (20,20))"
   ]
  },
  {
   "cell_type": "code",
   "execution_count": 24,
   "metadata": {
    "colab": {
     "base_uri": "https://localhost:8080/",
     "height": 459
    },
    "executionInfo": {
     "elapsed": 892,
     "status": "ok",
     "timestamp": 1654829346541,
     "user": {
      "displayName": "Dr.Mydhili Nair",
      "userId": "00267933281365461047"
     },
     "user_tz": -330
    },
    "id": "UjBk_Wqdk2f2",
    "outputId": "a23e89bc-ca0c-462f-f721-c1e5c5bdfd3a"
   },
   "outputs": [
    {
     "ename": "NameError",
     "evalue": "name 'msno' is not defined",
     "output_type": "error",
     "traceback": [
      "\u001b[1;31m---------------------------------------------------------------------------\u001b[0m",
      "\u001b[1;31mNameError\u001b[0m                                 Traceback (most recent call last)",
      "\u001b[1;32m<ipython-input-24-9172ef924681>\u001b[0m in \u001b[0;36m<module>\u001b[1;34m\u001b[0m\n\u001b[1;32m----> 1\u001b[1;33m \u001b[0mfinal_null_plot_count\u001b[0m \u001b[1;33m=\u001b[0m \u001b[0mmsno\u001b[0m\u001b[1;33m.\u001b[0m\u001b[0mbar\u001b[0m\u001b[1;33m(\u001b[0m\u001b[0mdata_copy\u001b[0m\u001b[1;33m)\u001b[0m\u001b[1;33m\u001b[0m\u001b[1;33m\u001b[0m\u001b[0m\n\u001b[0m",
      "\u001b[1;31mNameError\u001b[0m: name 'msno' is not defined"
     ]
    }
   ],
   "source": [
    "final_null_plot_count = msno.bar(data_copy)"
   ]
  },
  {
   "cell_type": "markdown",
   "metadata": {
    "id": "cn8ZN80PmPaF"
   },
   "source": [
    "####Scaling the values in each column\n",
    "#####This is an important step to do in KNN so that one feature with high values does not overwhelm the impact of a variable with low values"
   ]
  },
  {
   "cell_type": "code",
   "execution_count": 26,
   "metadata": {
    "executionInfo": {
     "elapsed": 30,
     "status": "ok",
     "timestamp": 1654829346542,
     "user": {
      "displayName": "Dr.Mydhili Nair",
      "userId": "00267933281365461047"
     },
     "user_tz": -330
    },
    "id": "Xt8Ud8JVmfDT"
   },
   "outputs": [],
   "source": [
    "sc_X = StandardScaler()\n",
    "X =  pd.DataFrame(sc_X.fit_transform(data_copy.drop([\"Outcome\"],axis = 1),),\n",
    "        columns=['Pregnancies', 'Glucose', 'BloodPressure', 'SkinThickness', 'Insulin',\n",
    "       'BMI', 'DiabetesPedigreeFunction', 'Age'])"
   ]
  },
  {
   "cell_type": "code",
   "execution_count": 27,
   "metadata": {
    "colab": {
     "base_uri": "https://localhost:8080/",
     "height": 270
    },
    "executionInfo": {
     "elapsed": 30,
     "status": "ok",
     "timestamp": 1654829346543,
     "user": {
      "displayName": "Dr.Mydhili Nair",
      "userId": "00267933281365461047"
     },
     "user_tz": -330
    },
    "id": "XZxyAfaZnt97",
    "outputId": "970a6bd8-6c4e-492f-afab-0d56111aecd2"
   },
   "outputs": [
    {
     "data": {
      "text/html": [
       "<div>\n",
       "<style scoped>\n",
       "    .dataframe tbody tr th:only-of-type {\n",
       "        vertical-align: middle;\n",
       "    }\n",
       "\n",
       "    .dataframe tbody tr th {\n",
       "        vertical-align: top;\n",
       "    }\n",
       "\n",
       "    .dataframe thead th {\n",
       "        text-align: right;\n",
       "    }\n",
       "</style>\n",
       "<table border=\"1\" class=\"dataframe\">\n",
       "  <thead>\n",
       "    <tr style=\"text-align: right;\">\n",
       "      <th></th>\n",
       "      <th>Pregnancies</th>\n",
       "      <th>Glucose</th>\n",
       "      <th>BloodPressure</th>\n",
       "      <th>SkinThickness</th>\n",
       "      <th>Insulin</th>\n",
       "      <th>BMI</th>\n",
       "      <th>DiabetesPedigreeFunction</th>\n",
       "      <th>Age</th>\n",
       "    </tr>\n",
       "  </thead>\n",
       "  <tbody>\n",
       "    <tr>\n",
       "      <th>0</th>\n",
       "      <td>0.638431</td>\n",
       "      <td>0.863428</td>\n",
       "      <td>-0.036649</td>\n",
       "      <td>0.672046</td>\n",
       "      <td>-0.180737</td>\n",
       "      <td>0.169545</td>\n",
       "      <td>0.481633</td>\n",
       "      <td>1.423063</td>\n",
       "    </tr>\n",
       "    <tr>\n",
       "      <th>1</th>\n",
       "      <td>-0.848380</td>\n",
       "      <td>-1.202588</td>\n",
       "      <td>-0.533975</td>\n",
       "      <td>-0.011512</td>\n",
       "      <td>-0.180737</td>\n",
       "      <td>-0.851286</td>\n",
       "      <td>-0.366286</td>\n",
       "      <td>-0.190210</td>\n",
       "    </tr>\n",
       "    <tr>\n",
       "      <th>2</th>\n",
       "      <td>1.233156</td>\n",
       "      <td>2.011215</td>\n",
       "      <td>-0.699750</td>\n",
       "      <td>-0.011512</td>\n",
       "      <td>-0.180737</td>\n",
       "      <td>-1.332535</td>\n",
       "      <td>0.619881</td>\n",
       "      <td>-0.105301</td>\n",
       "    </tr>\n",
       "    <tr>\n",
       "      <th>3</th>\n",
       "      <td>-0.848380</td>\n",
       "      <td>-1.071412</td>\n",
       "      <td>-0.533975</td>\n",
       "      <td>-0.695071</td>\n",
       "      <td>-0.538817</td>\n",
       "      <td>-0.632537</td>\n",
       "      <td>-0.931565</td>\n",
       "      <td>-1.039301</td>\n",
       "    </tr>\n",
       "    <tr>\n",
       "      <th>4</th>\n",
       "      <td>0.341069</td>\n",
       "      <td>-0.185977</td>\n",
       "      <td>0.129127</td>\n",
       "      <td>-0.011512</td>\n",
       "      <td>-0.180737</td>\n",
       "      <td>-0.997119</td>\n",
       "      <td>-0.827112</td>\n",
       "      <td>-0.275119</td>\n",
       "    </tr>\n",
       "  </tbody>\n",
       "</table>\n",
       "</div>"
      ],
      "text/plain": [
       "   Pregnancies   Glucose  BloodPressure  SkinThickness   Insulin       BMI  \\\n",
       "0     0.638431  0.863428      -0.036649       0.672046 -0.180737  0.169545   \n",
       "1    -0.848380 -1.202588      -0.533975      -0.011512 -0.180737 -0.851286   \n",
       "2     1.233156  2.011215      -0.699750      -0.011512 -0.180737 -1.332535   \n",
       "3    -0.848380 -1.071412      -0.533975      -0.695071 -0.538817 -0.632537   \n",
       "4     0.341069 -0.185977       0.129127      -0.011512 -0.180737 -0.997119   \n",
       "\n",
       "   DiabetesPedigreeFunction       Age  \n",
       "0                  0.481633  1.423063  \n",
       "1                 -0.366286 -0.190210  \n",
       "2                  0.619881 -0.105301  \n",
       "3                 -0.931565 -1.039301  \n",
       "4                 -0.827112 -0.275119  "
      ]
     },
     "execution_count": 27,
     "metadata": {},
     "output_type": "execute_result"
    }
   ],
   "source": [
    "X.head()"
   ]
  },
  {
   "cell_type": "markdown",
   "metadata": {
    "id": "ULPKc25ln1bk"
   },
   "source": [
    "## kNN model and fitting data into the model\n",
    "### Test-Train Split"
   ]
  },
  {
   "cell_type": "code",
   "execution_count": 28,
   "metadata": {
    "colab": {
     "base_uri": "https://localhost:8080/"
    },
    "executionInfo": {
     "elapsed": 26,
     "status": "ok",
     "timestamp": 1654829346543,
     "user": {
      "displayName": "Dr.Mydhili Nair",
      "userId": "00267933281365461047"
     },
     "user_tz": -330
    },
    "id": "BH_YE6wgn6Vt",
    "outputId": "551684c2-32c5-4635-9ed1-d35978dc83bb"
   },
   "outputs": [
    {
     "name": "stdout",
     "output_type": "stream",
     "text": [
      "X_train = (508, 8), X_test = (254, 8), y_train = (508,), y_test = (254,)\n"
     ]
    }
   ],
   "source": [
    "y = data_copy[\"Outcome\"]\n",
    "X_train,X_test,y_train,y_test = train_test_split(X,y,test_size=1/3,random_state=42, stratify=y)\n",
    "\n",
    "print(\"X_train = {}, X_test = {}, y_train = {}, y_test = {}\".format(X_train.shape, X_test.shape, y_train.shape, y_test.shape))"
   ]
  },
  {
   "cell_type": "markdown",
   "metadata": {
    "id": "kgVhJqyMot_F"
   },
   "source": [
    "###Create kNN model\n",
    "####We are using a class to house the kNN logic. For calculating the distance, we are using Euclidean Distance. However, using Minkowski or Mahalanobis Distance is also fine"
   ]
  },
  {
   "cell_type": "code",
   "execution_count": 29,
   "metadata": {
    "executionInfo": {
     "elapsed": 23,
     "status": "ok",
     "timestamp": 1654829346546,
     "user": {
      "displayName": "Dr.Mydhili Nair",
      "userId": "00267933281365461047"
     },
     "user_tz": -330
    },
    "id": "ba2TWMh3oLIw"
   },
   "outputs": [],
   "source": [
    "class knnModel:\n",
    "\n",
    "  def euclidean(self, v1, v2):\n",
    "    # print(v1,v2)\n",
    "    dist = np.sqrt(np.sum((v1-v2)**2))\n",
    "    return dist\n",
    "  \n",
    "  def fit(self, X_train, y_train):\n",
    "    self.X_train = np.array(X_train)\n",
    "    self.y_train = np.array(y_train)\n",
    "  \n",
    "  def predict(self, X_test, k):\n",
    "    predicted_outcomes = []\n",
    "\n",
    "    if(X_test.ndim == 1):\n",
    "      X_test = np.reshape(X_test,(-1, len(X_test)))\n",
    "    # print(X_test, X_test[0])\n",
    "\n",
    "    for test_entry in X_test:\n",
    "      distances = np.array([self.euclidean(train_data_vector, test_entry) for train_data_vector in self.X_train])\n",
    "      #Sorting the array while preserving the index\n",
    "      #Keeping the first K datapoints\n",
    "      dist = np.argsort(distances)[:k]\n",
    "\n",
    "      #Labels of the K datapoints from above\n",
    "      labels = self.y_train[dist]\n",
    "        \n",
    "      #Majority voting\n",
    "      label = mode(labels)\n",
    "      # print(test_entry, \"fewfw\", dist, labels,\"efwef\")\n",
    "      label = label.mode[0]\n",
    "      predicted_outcomes.append(label)\n",
    "    \n",
    "    return predicted_outcomes\n",
    "  \n",
    "  def __init__(self):\n",
    "    self.X_train = None\n",
    "    self.y_train = None      "
   ]
  },
  {
   "cell_type": "markdown",
   "metadata": {
    "id": "9-rOSeUHum2U"
   },
   "source": [
    "### Fit and predict data on kNN model"
   ]
  },
  {
   "cell_type": "code",
   "execution_count": 30,
   "metadata": {
    "executionInfo": {
     "elapsed": 23,
     "status": "ok",
     "timestamp": 1654829346546,
     "user": {
      "displayName": "Dr.Mydhili Nair",
      "userId": "00267933281365461047"
     },
     "user_tz": -330
    },
    "id": "ixUXusbqsq36"
   },
   "outputs": [],
   "source": [
    "knn = knnModel()\n",
    "knn.fit(X_train, y_train)\n",
    "\n",
    "# for i in range(len(X_test)):\n",
    "#   x = np.array(X_test)[i]\n",
    "#   y = np.array(y_test)[i]\n",
    "#   predicted_val = knn.predict(x,10)\n",
    "#   print(\"Predicted Value = {}, Expected Value = {}\".format(predicted_val, y))"
   ]
  },
  {
   "cell_type": "markdown",
   "metadata": {
    "id": "ijLEDjT33Igb"
   },
   "source": [
    "####Find optimal K-value for prediction"
   ]
  },
  {
   "cell_type": "code",
   "execution_count": 31,
   "metadata": {
    "colab": {
     "base_uri": "https://localhost:8080/"
    },
    "executionInfo": {
     "elapsed": 24310,
     "status": "ok",
     "timestamp": 1654829370834,
     "user": {
      "displayName": "Dr.Mydhili Nair",
      "userId": "00267933281365461047"
     },
     "user_tz": -330
    },
    "id": "YJbsiZpU3GI-",
    "outputId": "797c7c34-497a-4cea-8ebb-2cadb7ff065a"
   },
   "outputs": [
    {
     "name": "stdout",
     "output_type": "stream",
     "text": [
      "For k = 1\n",
      " 0.7086614173228346\n",
      "For k = 2\n",
      " 0.7362204724409449\n",
      "For k = 3\n",
      " 0.7559055118110236\n",
      "For k = 4\n",
      " 0.7440944881889764\n",
      "For k = 5\n",
      " 0.7637795275590551\n",
      "For k = 6\n",
      " 0.7559055118110236\n",
      "For k = 7\n",
      " 0.7716535433070866\n",
      "For k = 8\n",
      " 0.7637795275590551\n",
      "For k = 9\n",
      " 0.7440944881889764\n",
      "For k = 10\n",
      " 0.7519685039370079\n",
      "For k = 11\n",
      " 0.7598425196850394\n",
      "For k = 12\n",
      " 0.7480314960629921\n",
      "For k = 13\n",
      " 0.7677165354330708\n",
      "For k = 14\n",
      " 0.7559055118110236\n",
      "For k = 15\n",
      " 0.7677165354330708\n",
      "For k = 16\n",
      " 0.7755905511811023\n",
      "For k = 17\n",
      " 0.7874015748031497\n",
      "For k = 18\n",
      " 0.7795275590551181\n",
      "For k = 19\n",
      " 0.7716535433070866\n"
     ]
    }
   ],
   "source": [
    "accuracy_scores = []\n",
    "for k in range(1,20):\n",
    "  predicted_vals = knn.predict(np.array(X_test), k)\n",
    "  accuracy = accuracy_score(y_test, predicted_vals)\n",
    "  accuracy_scores.append(accuracy)\n",
    "  # report = classification_report(y_test, predicted_vals)\n",
    "  print(\"For k = {}\\n\".format(k), accuracy)"
   ]
  },
  {
   "cell_type": "code",
   "execution_count": 76,
   "metadata": {
    "colab": {
     "base_uri": "https://localhost:8080/",
     "height": 376
    },
    "executionInfo": {
     "elapsed": 33,
     "status": "ok",
     "timestamp": 1654829370834,
     "user": {
      "displayName": "Dr.Mydhili Nair",
      "userId": "00267933281365461047"
     },
     "user_tz": -330
    },
    "id": "3OxHbRAn0e4S",
    "outputId": "a7b2bf0a-95f8-4442-cc76-c39ab6516093"
   },
   "outputs": [
    {
     "name": "stderr",
     "output_type": "stream",
     "text": [
      "/usr/local/lib/python3.7/dist-packages/seaborn/_decorators.py:43: FutureWarning: Pass the following variables as keyword args: x, y. From version 0.12, the only valid positional argument will be `data`, and passing other arguments without an explicit keyword will result in an error or misinterpretation.\n",
      "  FutureWarning\n"
     ]
    },
    {
     "data": {
      "image/png": "[encoded data removed]",
      "text/plain": [
       "<Figure size 864x360 with 1 Axes>"
      ]
     },
     "metadata": {
      "needs_background": "light"
     },
     "output_type": "display_data"
    }
   ],
   "source": [
    "plt.figure(figsize=(12,5))\n",
    "p = sns.lineplot(range(1,20),accuracy_scores,marker='o',label='Test Accuracy Score')"
   ]
  },
  {
   "cell_type": "markdown",
   "metadata": {
    "id": "wRkC8AEG5xZ8"
   },
   "source": [
    "### Hence, we have got a knn model with an optimum k value of 17 and accuracy = 78.74%"
   ]
  }
 ],
 "metadata": {
  "colab": {
   "collapsed_sections": [],
   "name": "KNN.ipynb",
   "provenance": []
  },
  "kernelspec": {
   "display_name": "Python 3",
   "language": "python",
   "name": "python3"
  },
  "language_info": {
   "codemirror_mode": {
    "name": "ipython",
    "version": 3
   },
   "file_extension": ".py",
   "mimetype": "text/x-python",
   "name": "python",
   "nbconvert_exporter": "python",
   "pygments_lexer": "ipython3",
   "version": "3.8.8"
  }
 },
 "nbformat": 4,
 "nbformat_minor": 1
}
